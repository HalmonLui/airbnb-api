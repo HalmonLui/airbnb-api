{
 "cells": [
  {
   "cell_type": "code",
   "execution_count": 6,
   "metadata": {},
   "outputs": [],
   "source": [
    "import time\n",
    "from selenium import webdriver\n",
    "from selenium.webdriver.chrome.options import Options \n",
    "import pprint\n",
    "from bs4 import BeautifulSoup\n",
    "\n",
    "def get_house_rules():\n",
    "    # Build URL\n",
    "    base_url = 'https://www.airbnb.com/s/homes?query='\n",
    "    URL = base_url + 'Boston' + '%2C%20' + 'MA' # Can use any city/state\n",
    "\n",
    "    # Set up headless chrome driver\n",
    "    chrome_options = Options()\n",
    "    chrome_options.add_argument(\"--headless\")\n",
    "    driver = webdriver.Chrome(options=chrome_options)\n",
    "    driver.set_window_size(500, 951) # Manually set window size so we can find by class name later\n",
    "\n",
    "    # Control page to show house rules\n",
    "    driver.get(URL)\n",
    "    time.sleep(1) # Since we are in a browser, the javascript takes time to run so let's give it time\n",
    "    error_message = None\n",
    "    more_filters_button = driver.find_elements_by_xpath('//*[@id=\"filter-menu-chip-group\"]/div[2]/button')[0]\n",
    "    if more_filters_button:\n",
    "        more_filters_button.click()\n",
    "        time.sleep(1) # Waiting for page's js to run\n",
    "        soup = BeautifulSoup(driver.page_source, 'html.parser')\n",
    "    else:\n",
    "        error_message = 'Unable to access filter button'\n",
    "\n",
    "    driver.quit() # Close driver to prevent idle processes\n",
    "\n",
    "    # Return error message if we cannot access languages\n",
    "    if error_message:\n",
    "        return {'error': error_message}, 400\n",
    "\n",
    "    house_rules = []\n",
    "    inputs = soup.find_all('input')\n",
    "    for i in inputs:\n",
    "        ids = i.get('id')\n",
    "        if ids and 'amenities' in ids:\n",
    "            house_rule_id = ids.replace('amenities-', '')\n",
    "            house_rule = i.get('name')\n",
    "            house_rules.append({'house_rule': house_rule, 'house_rule_id': house_rule_id})\n",
    "\n",
    "    return house_rules"
   ]
  },
  {
   "cell_type": "code",
   "execution_count": 7,
   "metadata": {},
   "outputs": [
    {
     "data": {
      "text/plain": [
       "[{'house_rule': 'Pets allowed', 'house_rule_id': '12'},\n",
       " {'house_rule': 'Smoking allowed', 'house_rule_id': '11'}]"
      ]
     },
     "execution_count": 7,
     "metadata": {},
     "output_type": "execute_result"
    }
   ],
   "source": [
    "get_house_rules()"
   ]
  }
 ],
 "metadata": {
  "kernelspec": {
   "display_name": "Python 3",
   "language": "python",
   "name": "python3"
  },
  "language_info": {
   "codemirror_mode": {
    "name": "ipython",
    "version": 3
   },
   "file_extension": ".py",
   "mimetype": "text/x-python",
   "name": "python",
   "nbconvert_exporter": "python",
   "pygments_lexer": "ipython3",
   "version": "3.7.0"
  }
 },
 "nbformat": 4,
 "nbformat_minor": 2
}
