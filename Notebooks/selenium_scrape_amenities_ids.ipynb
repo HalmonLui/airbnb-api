{
 "cells": [
  {
   "cell_type": "code",
   "execution_count": 22,
   "metadata": {},
   "outputs": [],
   "source": [
    "import time\n",
    "from selenium import webdriver\n",
    "from selenium.webdriver.chrome.options import Options \n",
    "import pprint\n",
    "from bs4 import BeautifulSoup\n",
    "\n",
    "def getAmenities():\n",
    "    base_url = 'https://www.airbnb.com/s/homes?query='\n",
    "    URL = base_url + 'Boston' + '%2C%20' + 'MA' # Can use any city/state\n",
    "    chrome_options = Options()  \n",
    "    chrome_options.add_argument(\"--headless\") \n",
    "    driver = webdriver.Chrome(options=chrome_options) \n",
    "    driver.set_window_size(500, 951) # Manually set window size so we can find by class name later\n",
    "    driver.get(URL)\n",
    "    time.sleep(1) # Since we are in a browser, the javascript takes time to run so let's give it time\n",
    "    more_filters_button = driver.find_elements_by_xpath('//*[@id=\"filter-menu-chip-group\"]/div[2]/button')[0]\n",
    "    more_filters_button.click()\n",
    "    time.sleep(1) # Waiting for page's js to run\n",
    "    show_amenities = driver.find_elements_by_class_name('_6lth7f')[1] # Dangerous, classnames automatically change based on window dimensions, they might also rotate every once and a while for airbnb security\n",
    "    show_amenities.click()\n",
    "#     show_facilities = driver.find_elements_by_class_name('_6lth7f')[2] # Dangerous, classnames automatically change based on window dimensions, they might also rotate every once and a while for airbnb security\n",
    "#     show_facilities.click()\n",
    "    show_accessibility = driver.find_elements_by_class_name('_6lth7f')[0] # Dangerous, classnames automatically change based on window dimensions, they might also rotate every once and a while for airbnb security\n",
    "    show_accessibility.click()\n",
    "    soup = BeautifulSoup(driver.page_source, 'html.parser')\n",
    "    driver.quit()\n",
    "\n",
    "    amenities = []\n",
    "    inputs = soup.find_all('input')\n",
    "    for i in inputs:\n",
    "        ids = i.get('id')\n",
    "        if ids and 'amenities' in ids:\n",
    "            amenity_id = ids.replace('amenities-', '')\n",
    "            amenity = i.get('name')\n",
    "            amenities.append({'amenity': amenity, 'amenity_id': amenity_id})\n",
    "\n",
    "    return amenities"
   ]
  },
  {
   "cell_type": "code",
   "execution_count": 23,
   "metadata": {},
   "outputs": [
    {
     "data": {
      "text/plain": [
       "[{'amenity': 'No stairs or steps to enter', 'amenity_id': '110'},\n",
       " {'amenity': 'Well-lit path to entrance', 'amenity_id': '113'},\n",
       " {'amenity': 'Wide entrance for guests', 'amenity_id': '111'},\n",
       " {'amenity': 'Step-free path to entrance', 'amenity_id': '112'},\n",
       " {'amenity': 'Wide hallways', 'amenity_id': '109'},\n",
       " {'amenity': 'Elevator', 'amenity_id': '21'},\n",
       " {'amenity': 'No stairs or steps to enter', 'amenity_id': '115'},\n",
       " {'amenity': 'Wide entrance', 'amenity_id': '116'},\n",
       " {'amenity': 'Accessible-height bed', 'amenity_id': '118'},\n",
       " {'amenity': 'Extra space around bed', 'amenity_id': '117'},\n",
       " {'amenity': 'Electric profiling bed', 'amenity_id': '288'},\n",
       " {'amenity': 'No stairs or steps to enter', 'amenity_id': '120'},\n",
       " {'amenity': 'Wide doorway to guest bathroom', 'amenity_id': '121'},\n",
       " {'amenity': 'Extra space around toilet', 'amenity_id': '608'},\n",
       " {'amenity': 'Accessible-height toilet', 'amenity_id': '125'},\n",
       " {'amenity': 'Fixed grab bars for toilet', 'amenity_id': '295'},\n",
       " {'amenity': 'Extra space around shower', 'amenity_id': '609'},\n",
       " {'amenity': 'Fixed grab bars for shower', 'amenity_id': '294'},\n",
       " {'amenity': 'Step-free shower', 'amenity_id': '296'},\n",
       " {'amenity': 'Shower chair', 'amenity_id': '297'},\n",
       " {'amenity': 'Handheld shower head', 'amenity_id': '136'},\n",
       " {'amenity': 'Bathtub with bath chair', 'amenity_id': '123'},\n",
       " {'amenity': 'No stairs or steps to enter', 'amenity_id': '127'},\n",
       " {'amenity': 'Wide entryway', 'amenity_id': '128'},\n",
       " {'amenity': 'Disabled parking spot', 'amenity_id': '114'},\n",
       " {'amenity': 'Mobile hoist', 'amenity_id': '289'},\n",
       " {'amenity': 'Pool with pool hoist', 'amenity_id': '290'},\n",
       " {'amenity': 'Ceiling hoist', 'amenity_id': '291'},\n",
       " {'amenity': 'Kitchen', 'amenity_id': '8'},\n",
       " {'amenity': 'Shampoo', 'amenity_id': '41'},\n",
       " {'amenity': 'Heating', 'amenity_id': '30'},\n",
       " {'amenity': 'Air conditioning', 'amenity_id': '5'},\n",
       " {'amenity': 'Washer', 'amenity_id': '33'},\n",
       " {'amenity': 'Dryer', 'amenity_id': '34'},\n",
       " {'amenity': 'Wifi', 'amenity_id': '4'},\n",
       " {'amenity': 'Breakfast', 'amenity_id': '16'},\n",
       " {'amenity': 'Indoor fireplace', 'amenity_id': '27'},\n",
       " {'amenity': 'Hangers', 'amenity_id': '44'},\n",
       " {'amenity': 'Iron', 'amenity_id': '46'},\n",
       " {'amenity': 'Hair dryer', 'amenity_id': '45'},\n",
       " {'amenity': 'Laptop-friendly workspace', 'amenity_id': '47'},\n",
       " {'amenity': 'TV', 'amenity_id': '58'},\n",
       " {'amenity': 'Crib', 'amenity_id': '286'},\n",
       " {'amenity': 'High chair', 'amenity_id': '64'},\n",
       " {'amenity': 'Self check-in', 'amenity_id': '51'},\n",
       " {'amenity': 'Smoke alarm', 'amenity_id': '35'},\n",
       " {'amenity': 'Carbon monoxide alarm', 'amenity_id': '36'},\n",
       " {'amenity': 'Private bathroom', 'amenity_id': '78'},\n",
       " {'amenity': 'Pets allowed', 'amenity_id': '12'},\n",
       " {'amenity': 'Smoking allowed', 'amenity_id': '11'}]"
      ]
     },
     "execution_count": 23,
     "metadata": {},
     "output_type": "execute_result"
    }
   ],
   "source": [
    "getAmenities()"
   ]
  }
 ],
 "metadata": {
  "kernelspec": {
   "display_name": "Python 3",
   "language": "python",
   "name": "python3"
  },
  "language_info": {
   "codemirror_mode": {
    "name": "ipython",
    "version": 3
   },
   "file_extension": ".py",
   "mimetype": "text/x-python",
   "name": "python",
   "nbconvert_exporter": "python",
   "pygments_lexer": "ipython3",
   "version": "3.7.0"
  }
 },
 "nbformat": 4,
 "nbformat_minor": 2
}
