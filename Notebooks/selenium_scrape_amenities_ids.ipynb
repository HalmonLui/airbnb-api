{
 "cells": [
  {
   "cell_type": "code",
   "execution_count": 12,
   "metadata": {},
   "outputs": [],
   "source": [
    "import time\n",
    "from selenium import webdriver\n",
    "from selenium.webdriver.chrome.options import Options \n",
    "import pprint\n",
    "from bs4 import BeautifulSoup\n",
    "\n",
    "def getAmenities():\n",
    "    base_url = 'https://www.airbnb.com/s/homes?query='\n",
    "    URL = base_url + 'Boston' + '%2C%20' + 'MA' # Can use any city/state\n",
    "    chrome_options = Options()  \n",
    "    chrome_options.add_argument(\"--headless\") \n",
    "    driver = webdriver.Chrome(options=chrome_options) \n",
    "    driver.set_window_size(500, 951) # Manually set window size so we can find by class name later\n",
    "    driver.get(URL)\n",
    "    time.sleep(1) # Since we are in a browser, the javascript takes time to run so let's give it time\n",
    "    more_filters_button = driver.find_elements_by_xpath('//*[@id=\"filter-menu-chip-group\"]/div[2]/button')[0]\n",
    "    more_filters_button.click()\n",
    "    time.sleep(1) # Waiting for page's js to run\n",
    "    show_amenities = driver.find_elements_by_class_name('_6lth7f')[1] # Dangerous, classnames automatically change based on window dimensions, they might also rotate every once and a while for airbnb security\n",
    "    show_amenities.click()\n",
    "    show_facilities = driver.find_elements_by_class_name('_6lth7f')[2] # Dangerous, classnames automatically change based on window dimensions, they might also rotate every once and a while for airbnb security\n",
    "    show_facilities.click()\n",
    "    soup = BeautifulSoup(driver.page_source, 'html.parser')\n",
    "    driver.quit()\n",
    "\n",
    "    amenities = []\n",
    "    inputs = soup.find_all('input')\n",
    "    for i in inputs:\n",
    "        ids = i.get('id')\n",
    "        if ids and 'amenities' in ids:\n",
    "            amenity_id = ids.replace('amenities-', '')\n",
    "            amenity = i.get('name')\n",
    "            amenities.append({'amenity': amenity, 'amenity_id': amenity_id})\n",
    "\n",
    "    return amenities"
   ]
  },
  {
   "cell_type": "code",
   "execution_count": 13,
   "metadata": {},
   "outputs": [
    {
     "data": {
      "text/plain": [
       "[{'amenity': 'Kitchen', 'amenity_id': '8'},\n",
       " {'amenity': 'Shampoo', 'amenity_id': '41'},\n",
       " {'amenity': 'Heating', 'amenity_id': '30'},\n",
       " {'amenity': 'Air conditioning', 'amenity_id': '5'},\n",
       " {'amenity': 'Washer', 'amenity_id': '33'},\n",
       " {'amenity': 'Dryer', 'amenity_id': '34'},\n",
       " {'amenity': 'Wifi', 'amenity_id': '4'},\n",
       " {'amenity': 'Breakfast', 'amenity_id': '16'},\n",
       " {'amenity': 'Indoor fireplace', 'amenity_id': '27'},\n",
       " {'amenity': 'Hangers', 'amenity_id': '44'},\n",
       " {'amenity': 'Iron', 'amenity_id': '46'},\n",
       " {'amenity': 'Hair dryer', 'amenity_id': '45'},\n",
       " {'amenity': 'Laptop-friendly workspace', 'amenity_id': '47'},\n",
       " {'amenity': 'TV', 'amenity_id': '58'},\n",
       " {'amenity': 'Crib', 'amenity_id': '286'},\n",
       " {'amenity': 'High chair', 'amenity_id': '64'},\n",
       " {'amenity': 'Self check-in', 'amenity_id': '51'},\n",
       " {'amenity': 'Smoke alarm', 'amenity_id': '35'},\n",
       " {'amenity': 'Carbon monoxide alarm', 'amenity_id': '36'},\n",
       " {'amenity': 'Private bathroom', 'amenity_id': '78'},\n",
       " {'amenity': 'Free parking on premises', 'amenity_id': '9'},\n",
       " {'amenity': 'Gym', 'amenity_id': '15'},\n",
       " {'amenity': 'Hot tub', 'amenity_id': '25'},\n",
       " {'amenity': 'Pool', 'amenity_id': '7'},\n",
       " {'amenity': 'Pets allowed', 'amenity_id': '12'},\n",
       " {'amenity': 'Smoking allowed', 'amenity_id': '11'}]"
      ]
     },
     "execution_count": 13,
     "metadata": {},
     "output_type": "execute_result"
    }
   ],
   "source": [
    "getAmenities()"
   ]
  }
 ],
 "metadata": {
  "kernelspec": {
   "display_name": "Python 3",
   "language": "python",
   "name": "python3"
  },
  "language_info": {
   "codemirror_mode": {
    "name": "ipython",
    "version": 3
   },
   "file_extension": ".py",
   "mimetype": "text/x-python",
   "name": "python",
   "nbconvert_exporter": "python",
   "pygments_lexer": "ipython3",
   "version": "3.7.0"
  }
 },
 "nbformat": 4,
 "nbformat_minor": 2
}
