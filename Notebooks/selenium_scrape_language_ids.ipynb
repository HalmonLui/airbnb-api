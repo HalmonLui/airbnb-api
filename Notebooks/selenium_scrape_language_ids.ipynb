{
 "cells": [
  {
   "cell_type": "code",
   "execution_count": 9,
   "metadata": {},
   "outputs": [],
   "source": [
    "import time\n",
    "from selenium import webdriver\n",
    "from selenium.webdriver.chrome.options import Options \n",
    "import pprint\n",
    "from bs4 import BeautifulSoup\n",
    "\n",
    "def getLanguageIds():\n",
    "    base_url = 'https://www.airbnb.com/s/homes?query='\n",
    "    URL = base_url + 'Boston' + '%2C%20' + 'MA' # Can use any city/state\n",
    "    chrome_options = Options()  \n",
    "    chrome_options.add_argument(\"--headless\") \n",
    "    driver = webdriver.Chrome(options=chrome_options) \n",
    "    driver.set_window_size(500, 951) # Manually set window size so we can find by class name later\n",
    "    driver.get(URL)\n",
    "    time.sleep(1) # Since we are in a browser, the javascript takes time to run so let's give it time\n",
    "    more_filters_button = driver.find_elements_by_xpath('//*[@id=\"filter-menu-chip-group\"]/div[2]/button')[0]\n",
    "    more_filters_button.click()\n",
    "    time.sleep(1) # Waiting for page's js to run\n",
    "    show_all_languages_button = driver.find_elements_by_class_name('_6lth7f')[6] # Dangerous, classnames automatically change based on window dimensions, they might also rotate every once and a while for airbnb security\n",
    "    show_all_languages_button.click()\n",
    "    soup = BeautifulSoup(driver.page_source, 'html.parser')\n",
    "    driver.quit()\n",
    "\n",
    "    languages = []\n",
    "    inputs = soup.find_all('input')\n",
    "    for i in inputs:\n",
    "        ids = i.get('id')\n",
    "        if ids and 'languages' in ids:\n",
    "            language_id = ids.replace('languages-', '')\n",
    "            language = i.get('name')\n",
    "            languages.append({'language': language, 'language_id': language_id})\n",
    "\n",
    "    return languages"
   ]
  },
  {
   "cell_type": "code",
   "execution_count": 10,
   "metadata": {},
   "outputs": [
    {
     "data": {
      "text/plain": [
       "[{'language': 'English', 'language_id': '1'},\n",
       " {'language': 'French', 'language_id': '2'},\n",
       " {'language': 'German', 'language_id': '4'},\n",
       " {'language': 'Japanese', 'language_id': '8'},\n",
       " {'language': 'Italian', 'language_id': '16'},\n",
       " {'language': 'Russian', 'language_id': '32'},\n",
       " {'language': 'Spanish', 'language_id': '64'},\n",
       " {'language': 'Chinese (Simplified)', 'language_id': '128'},\n",
       " {'language': 'Arabic', 'language_id': '256'},\n",
       " {'language': 'Hindi', 'language_id': '512'},\n",
       " {'language': 'Portuguese', 'language_id': '1024'},\n",
       " {'language': 'Turkish', 'language_id': '2048'},\n",
       " {'language': 'Indonesian', 'language_id': '4096'},\n",
       " {'language': 'Dutch', 'language_id': '8192'},\n",
       " {'language': 'Korean', 'language_id': '16384'},\n",
       " {'language': 'Bengali', 'language_id': '32768'},\n",
       " {'language': 'Thai', 'language_id': '65536'},\n",
       " {'language': 'Punjabi', 'language_id': '131072'},\n",
       " {'language': 'Greek', 'language_id': '262144'},\n",
       " {'language': 'Sign', 'language_id': '524288'},\n",
       " {'language': 'Hebrew', 'language_id': '1048576'},\n",
       " {'language': 'Polish', 'language_id': '2097152'},\n",
       " {'language': 'Malay', 'language_id': '4194304'},\n",
       " {'language': 'Tagalog', 'language_id': '8388608'},\n",
       " {'language': 'Danish', 'language_id': '16777216'},\n",
       " {'language': 'Swedish', 'language_id': '33554432'},\n",
       " {'language': 'Norwegian', 'language_id': '67108864'},\n",
       " {'language': 'Finnish', 'language_id': '134217728'},\n",
       " {'language': 'Czech', 'language_id': '268435456'},\n",
       " {'language': 'Hungarian', 'language_id': '536870912'},\n",
       " {'language': 'Ukrainian', 'language_id': '1073741824'}]"
      ]
     },
     "execution_count": 10,
     "metadata": {},
     "output_type": "execute_result"
    }
   ],
   "source": [
    "getLanguageIds()"
   ]
  }
 ],
 "metadata": {
  "kernelspec": {
   "display_name": "Python 3",
   "language": "python",
   "name": "python3"
  },
  "language_info": {
   "codemirror_mode": {
    "name": "ipython",
    "version": 3
   },
   "file_extension": ".py",
   "mimetype": "text/x-python",
   "name": "python",
   "nbconvert_exporter": "python",
   "pygments_lexer": "ipython3",
   "version": "3.7.0"
  }
 },
 "nbformat": 4,
 "nbformat_minor": 2
}
