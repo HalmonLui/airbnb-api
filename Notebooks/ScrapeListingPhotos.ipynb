{
 "cells": [
  {
   "cell_type": "code",
   "execution_count": 28,
   "metadata": {},
   "outputs": [],
   "source": [
    "import time\n",
    "from selenium import webdriver\n",
    "from selenium.webdriver.chrome.options import Options \n",
    "import pprint\n",
    "from bs4 import BeautifulSoup\n",
    "\n",
    "def getImageSrc():\n",
    "    URL = 'https://www.airbnb.com/rooms/26667415/photos'\n",
    "    chrome_options = Options()  \n",
    "    chrome_options.add_argument(\"--headless\") \n",
    "    driver = webdriver.Chrome() \n",
    "    driver.set_window_size(500, 951) # Manually set window size so we can find by class name later\n",
    "    driver.get(URL)\n",
    "    time.sleep(1) # Since we are in a browser, the javascript takes time to run so let's give it time\n",
    "    soup = BeautifulSoup(driver.page_source, 'html.parser')\n",
    "    driver.quit()\n",
    "\n",
    "    photos = []\n",
    "    allImages = soup.find_all('img')\n",
    "    for img in allImages:\n",
    "        individualImage = img.get('src')\n",
    "        if ('bat.bing') in ('src'):\n",
    "            pass\n",
    "        else:\n",
    "            photos.append(individualImage)\n",
    "        \n",
    "    return photos"
   ]
  },
  {
   "cell_type": "code",
   "execution_count": 30,
   "metadata": {},
   "outputs": [
    {
     "data": {
      "text/plain": [
       "['https://a0.muscache.com/im/pictures/5aa90401-1b1f-4775-8a76-82b77c6c30a8.jpg?aki_policy=large',\n",
       " 'https://a0.muscache.com/im/pictures/002a1c0c-150b-4f55-a142-36c168613d82.jpg?aki_policy=large',\n",
       " 'https://a0.muscache.com/im/pictures/a4f30293-3f37-4b01-b360-8a9e520e0d00.jpg?aki_policy=large',\n",
       " 'https://a0.muscache.com/im/pictures/user/fa36b750-395d-43e9-b8e0-741d03112aa2.jpg?aki_policy=profile_x_medium',\n",
       " 'https://a0.muscache.com/im/pictures/a4f30293-3f37-4b01-b360-8a9e520e0d00.jpg?aki_policy=poster',\n",
       " 'https://a0.muscache.com/im/pictures/5aa90401-1b1f-4775-8a76-82b77c6c30a8.jpg?aki_policy=large',\n",
       " 'https://a0.muscache.com/im/pictures/002a1c0c-150b-4f55-a142-36c168613d82.jpg?aki_policy=large',\n",
       " 'https://a0.muscache.com/im/pictures/24ffa390-22d8-4e55-8761-615d7f5cdb0f.jpg?aki_policy=large',\n",
       " 'https://a0.muscache.com/im/pictures/3f11a092-7a20-4c10-9778-3e981191674a.jpg?aki_policy=large',\n",
       " 'https://a0.muscache.com/im/pictures/77c65b09-614d-4f5d-b67c-8a2b4534be6a.jpg?aki_policy=large',\n",
       " 'https://a0.muscache.com/im/pictures/77a0e386-a2f8-4459-a6ea-579ca22bb6d2.jpg?aki_policy=poster',\n",
       " 'https://a0.muscache.com/im/pictures/943777cb-2f7d-4af4-b0b8-3765e6edebfb.jpg?aki_policy=large',\n",
       " 'https://a0.muscache.com/im/pictures/df1f3174-beea-4be6-921f-133cb8b821b0.jpg?aki_policy=large',\n",
       " 'https://a0.muscache.com/im/pictures/8196dbee-1bcf-4ee7-a4db-b69c1a2020b7.jpg?aki_policy=large',\n",
       " 'https://a0.muscache.com/im/pictures/56f934bc-5916-433f-a887-8682c7733e9f.jpg?aki_policy=large',\n",
       " 'https://a0.muscache.com/im/pictures/18a3e8c4-53c5-4b5a-b42c-a97cb80cc5f5.jpg?aki_policy=large',\n",
       " 'https://a0.muscache.com/im/pictures/a038bb39-a236-4752-b79c-98340a411c1e.jpg?aki_policy=large',\n",
       " 'https://a0.muscache.com/im/pictures/c84c1aca-252d-4e5d-b7ab-f3fc32dce088.jpg?aki_policy=large']"
      ]
     },
     "execution_count": 30,
     "metadata": {},
     "output_type": "execute_result"
    }
   ],
   "source": [
    "getImageSrc()"
   ]
  }
 ],
 "metadata": {
  "kernelspec": {
   "display_name": "Python 3",
   "language": "python",
   "name": "python3"
  },
  "language_info": {
   "codemirror_mode": {
    "name": "ipython",
    "version": 3
   },
   "file_extension": ".py",
   "mimetype": "text/x-python",
   "name": "python",
   "nbconvert_exporter": "python",
   "pygments_lexer": "ipython3",
   "version": "3.7.6"
  }
 },
 "nbformat": 4,
 "nbformat_minor": 4
}
