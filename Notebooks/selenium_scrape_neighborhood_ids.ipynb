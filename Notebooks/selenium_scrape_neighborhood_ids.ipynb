{
 "cells": [
  {
   "cell_type": "code",
   "execution_count": 38,
   "metadata": {},
   "outputs": [],
   "source": [
    "import time\n",
    "from selenium import webdriver\n",
    "from selenium.webdriver.chrome.options import Options \n",
    "import pprint\n",
    "from bs4 import BeautifulSoup\n",
    "\n",
    "def getNeighborhoodIds(city, state):\n",
    "    base_url = 'https://www.airbnb.com/s/homes?query='\n",
    "    URL = base_url + city + '%2C%20' + state\n",
    "    chrome_options = Options()  \n",
    "    chrome_options.add_argument(\"--headless\") \n",
    "    driver = webdriver.Chrome(options=chrome_options) \n",
    "    driver.set_window_size(500, 951) # Manually set window size so we can find by class name later\n",
    "    driver.get(URL)\n",
    "    time.sleep(1) # Since we are in a browser, the javascript takes time to run so let's give it time\n",
    "    more_filters_button = driver.find_elements_by_xpath('//*[@id=\"filter-menu-chip-group\"]/div[2]/button')[0]\n",
    "    more_filters_button.click()\n",
    "    time.sleep(1) # Waiting for page's js to run\n",
    "    show_all_neighborhoods_button = driver.find_elements_by_class_name('_6lth7f')[5] # Dangerous, classnames automatically change based on window dimensions, they might also rotate every once and a while for airbnb security\n",
    "    show_all_neighborhoods_button.click()\n",
    "    soup = BeautifulSoup(driver.page_source, 'html.parser')\n",
    "    driver.quit()\n",
    "\n",
    "    neighborhoods = []\n",
    "    inputs = soup.find_all('input')\n",
    "    for i in inputs:\n",
    "        ids = i.get('id')\n",
    "        if ids and 'neighborhood_ids' in ids:\n",
    "            neighborhood_id = ids.replace('neighborhood_ids-', '')\n",
    "            neighborhood = i.get('name')\n",
    "            neighborhoods.append({'neighborhood': neighborhood, 'neighborhood_id': neighborhood_id})\n",
    "\n",
    "    return neighborhoods"
   ]
  },
  {
   "cell_type": "code",
   "execution_count": 40,
   "metadata": {},
   "outputs": [
    {
     "data": {
      "text/plain": [
       "[{'neighborhood': 'Allston-Brighton', 'neighborhood_id': '578'},\n",
       " {'neighborhood': 'East Boston', 'neighborhood_id': '579'},\n",
       " {'neighborhood': 'Winthrop', 'neighborhood_id': '580'},\n",
       " {'neighborhood': 'Theater District', 'neighborhood_id': '453'},\n",
       " {'neighborhood': 'Cambridge', 'neighborhood_id': '581'},\n",
       " {'neighborhood': 'Downtown', 'neighborhood_id': '454'},\n",
       " {'neighborhood': 'Roxbury', 'neighborhood_id': '518'},\n",
       " {'neighborhood': 'Somerville', 'neighborhood_id': '583'},\n",
       " {'neighborhood': 'South Boston', 'neighborhood_id': '456'},\n",
       " {'neighborhood': 'Charlestown', 'neighborhood_id': '584'},\n",
       " {'neighborhood': 'Chelsea', 'neighborhood_id': '585'},\n",
       " {'neighborhood': 'Coolidge Corner', 'neighborhood_id': '1035'},\n",
       " {'neighborhood': 'Jamaica Plain', 'neighborhood_id': '525'},\n",
       " {'neighborhood': 'Newton', 'neighborhood_id': '598'},\n",
       " {'neighborhood': 'Dorchester', 'neighborhood_id': '535'},\n",
       " {'neighborhood': 'Everett', 'neighborhood_id': '600'},\n",
       " {'neighborhood': 'Watertown', 'neighborhood_id': '601'},\n",
       " {'neighborhood': 'Medford', 'neighborhood_id': '603'},\n",
       " {'neighborhood': 'Malden', 'neighborhood_id': '604'},\n",
       " {'neighborhood': 'Mattapan', 'neighborhood_id': '543'},\n",
       " {'neighborhood': 'Revere', 'neighborhood_id': '609'},\n",
       " {'neighborhood': 'Financial District', 'neighborhood_id': '611'},\n",
       " {'neighborhood': 'Downtown Crossing', 'neighborhood_id': '613'},\n",
       " {'neighborhood': 'Hyde Park', 'neighborhood_id': '551'},\n",
       " {'neighborhood': 'Government Center', 'neighborhood_id': '618'},\n",
       " {'neighborhood': 'Back Bay', 'neighborhood_id': '363'},\n",
       " {'neighborhood': 'South End', 'neighborhood_id': '492'},\n",
       " {'neighborhood': 'Beacon Hill', 'neighborhood_id': '620'},\n",
       " {'neighborhood': 'West End', 'neighborhood_id': '366'},\n",
       " {'neighborhood': 'Brookline', 'neighborhood_id': '495'},\n",
       " {'neighborhood': 'Roslindale', 'neighborhood_id': '559'},\n",
       " {'neighborhood': 'North End', 'neighborhood_id': '367'},\n",
       " {'neighborhood': 'Leather District', 'neighborhood_id': '439'},\n",
       " {'neighborhood': 'Harvard Square', 'neighborhood_id': '888'},\n",
       " {'neighborhood': 'Fenway/Kenmore', 'neighborhood_id': '504'},\n",
       " {'neighborhood': 'Chestnut Hill', 'neighborhood_id': '1017'},\n",
       " {'neighborhood': 'West Roxbury', 'neighborhood_id': '570'},\n",
       " {'neighborhood': 'Mission Hill', 'neighborhood_id': '506'},\n",
       " {'neighborhood': 'Chinatown', 'neighborhood_id': '444'}]"
      ]
     },
     "execution_count": 40,
     "metadata": {},
     "output_type": "execute_result"
    }
   ],
   "source": [
    "getNeighborhoodIds('Boston', 'MA')"
   ]
  }
 ],
 "metadata": {
  "kernelspec": {
   "display_name": "Python 3",
   "language": "python",
   "name": "python3"
  },
  "language_info": {
   "codemirror_mode": {
    "name": "ipython",
    "version": 3
   },
   "file_extension": ".py",
   "mimetype": "text/x-python",
   "name": "python",
   "nbconvert_exporter": "python",
   "pygments_lexer": "ipython3",
   "version": "3.7.0"
  }
 },
 "nbformat": 4,
 "nbformat_minor": 2
}
