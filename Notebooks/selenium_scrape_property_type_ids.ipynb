{
 "cells": [
  {
   "cell_type": "code",
   "execution_count": 5,
   "metadata": {},
   "outputs": [],
   "source": [
    "import time\n",
    "from selenium import webdriver\n",
    "from selenium.webdriver.chrome.options import Options \n",
    "import pprint\n",
    "from bs4 import BeautifulSoup\n",
    "\n",
    "def getPropertyTypes():\n",
    "    base_url = 'https://www.airbnb.com/s/homes?query='\n",
    "    URL = base_url + 'Boston' + '%2C%20' + 'MA' # Can use any city/state\n",
    "    chrome_options = Options()  \n",
    "    chrome_options.add_argument(\"--headless\") \n",
    "    driver = webdriver.Chrome(options=chrome_options) \n",
    "    driver.set_window_size(500, 951) # Manually set window size so we can find by class name later\n",
    "    driver.get(URL)\n",
    "    time.sleep(1) # Since we are in a browser, the javascript takes time to run so let's give it time\n",
    "    more_filters_button = driver.find_elements_by_xpath('//*[@id=\"filter-menu-chip-group\"]/div[2]/button')[0]\n",
    "    more_filters_button.click()\n",
    "    time.sleep(1) # Waiting for page's js to run\n",
    "    show_all_property_types_button = driver.find_elements_by_class_name('_6lth7f')[4] # Dangerous, classnames automatically change based on window dimensions, they might also rotate every once and a while for airbnb security\n",
    "    show_all_property_types_button.click()\n",
    "    soup = BeautifulSoup(driver.page_source, 'html.parser')\n",
    "    driver.quit()\n",
    "\n",
    "    property_types = []\n",
    "    inputs = soup.find_all('input')\n",
    "    for i in inputs:\n",
    "        ids = i.get('id')\n",
    "        if ids and 'property_type_id' in ids:\n",
    "            property_type_id = ids.replace('property_type_id-', '')\n",
    "            property_type = i.get('name')\n",
    "            property_types.append({'property_type': property_type, 'property_type_id': property_type_id})\n",
    "\n",
    "    return property_types"
   ]
  },
  {
   "cell_type": "code",
   "execution_count": 6,
   "metadata": {},
   "outputs": [
    {
     "data": {
      "text/plain": [
       "[{'property_type': 'Barn', 'property_type_id': '57'},\n",
       " {'property_type': 'Boat', 'property_type_id': '8'},\n",
       " {'property_type': 'Castle', 'property_type_id': '5'},\n",
       " {'property_type': 'Earth house', 'property_type_id': '23'},\n",
       " {'property_type': 'Farm stay', 'property_type_id': '63'},\n",
       " {'property_type': 'Houseboat', 'property_type_id': '64'},\n",
       " {'property_type': 'Tent', 'property_type_id': '34'}]"
      ]
     },
     "execution_count": 6,
     "metadata": {},
     "output_type": "execute_result"
    }
   ],
   "source": [
    "getPropertyTypes()"
   ]
  }
 ],
 "metadata": {
  "kernelspec": {
   "display_name": "Python 3",
   "language": "python",
   "name": "python3"
  },
  "language_info": {
   "codemirror_mode": {
    "name": "ipython",
    "version": 3
   },
   "file_extension": ".py",
   "mimetype": "text/x-python",
   "name": "python",
   "nbconvert_exporter": "python",
   "pygments_lexer": "ipython3",
   "version": "3.7.0"
  }
 },
 "nbformat": 4,
 "nbformat_minor": 2
}
