{
 "cells": [
  {
   "cell_type": "code",
   "execution_count": 7,
   "metadata": {},
   "outputs": [],
   "source": [
    "import time\n",
    "from selenium import webdriver\n",
    "from selenium.webdriver.chrome.options import Options \n",
    "import pprint\n",
    "from bs4 import BeautifulSoup\n",
    "\n",
    "def getPropertyTypes():\n",
    "    base_url = 'https://www.airbnb.com/s/homes?query='\n",
    "    URL = base_url + 'Boston' + '%2C%20' + 'MA' # Can use any city/state\n",
    "    chrome_options = Options()  \n",
    "    chrome_options.add_argument(\"--headless\") \n",
    "    driver = webdriver.Chrome(options=chrome_options) \n",
    "    driver.set_window_size(500, 951) # Manually set window size so we can find by class name later\n",
    "    driver.get(URL)\n",
    "    time.sleep(1) # Since we are in a browser, the javascript takes time to run so let's give it time\n",
    "    more_filters_button = driver.find_elements_by_xpath('//*[@id=\"filter-menu-chip-group\"]/div[2]/button')[0]\n",
    "    more_filters_button.click()\n",
    "    time.sleep(1) # Waiting for page's js to run\n",
    "    show_all_property_types_button = driver.find_elements_by_class_name('_6lth7f')[3] # Dangerous, classnames automatically change based on window dimensions, they might also rotate every once and a while for airbnb security\n",
    "    show_all_property_types_button.click()\n",
    "    soup = BeautifulSoup(driver.page_source, 'html.parser')\n",
    "    driver.quit()\n",
    "\n",
    "    property_types = []\n",
    "    inputs = soup.find_all('input')\n",
    "    for i in inputs:\n",
    "        ids = i.get('id')\n",
    "        if ids and 'property_type_id' in ids:\n",
    "            property_type_id = ids.replace('property_type_id-', '')\n",
    "            property_type = i.get('name')\n",
    "            property_types.append({'property_type': property_type, 'property_type_id': property_type_id})\n",
    "\n",
    "    return property_types"
   ]
  },
  {
   "cell_type": "code",
   "execution_count": 8,
   "metadata": {},
   "outputs": [
    {
     "data": {
      "text/plain": [
       "[{'property_type': 'House', 'property_type_id': '2'},\n",
       " {'property_type': 'Apartment', 'property_type_id': '1'},\n",
       " {'property_type': 'Bed and breakfast', 'property_type_id': '3'},\n",
       " {'property_type': 'Boutique hotel', 'property_type_id': '43'},\n",
       " {'property_type': 'Bungalow', 'property_type_id': '38'},\n",
       " {'property_type': 'Cabin', 'property_type_id': '4'},\n",
       " {'property_type': 'Cottage', 'property_type_id': '60'},\n",
       " {'property_type': 'Guest suite', 'property_type_id': '53'},\n",
       " {'property_type': 'Guesthouse', 'property_type_id': '40'},\n",
       " {'property_type': 'Hostel', 'property_type_id': '45'},\n",
       " {'property_type': 'Hotel', 'property_type_id': '42'},\n",
       " {'property_type': 'Loft', 'property_type_id': '35'},\n",
       " {'property_type': 'Serviced apartment', 'property_type_id': '47'},\n",
       " {'property_type': 'Townhouse', 'property_type_id': '36'},\n",
       " {'property_type': 'Villa', 'property_type_id': '11'}]"
      ]
     },
     "execution_count": 8,
     "metadata": {},
     "output_type": "execute_result"
    }
   ],
   "source": [
    "getPropertyTypes()"
   ]
  }
 ],
 "metadata": {
  "kernelspec": {
   "display_name": "Python 3",
   "language": "python",
   "name": "python3"
  },
  "language_info": {
   "codemirror_mode": {
    "name": "ipython",
    "version": 3
   },
   "file_extension": ".py",
   "mimetype": "text/x-python",
   "name": "python",
   "nbconvert_exporter": "python",
   "pygments_lexer": "ipython3",
   "version": "3.7.0"
  }
 },
 "nbformat": 4,
 "nbformat_minor": 2
}
