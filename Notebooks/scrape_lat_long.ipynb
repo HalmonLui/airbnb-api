{
 "cells": [
  {
   "cell_type": "code",
   "execution_count": 35,
   "metadata": {},
   "outputs": [
    {
     "name": "stdout",
     "output_type": "stream",
     "text": [
      "53.8147 -1.52538\n"
     ]
    }
   ],
   "source": [
    "import requests, re, time\n",
    "\n",
    "attempts = 0\n",
    "success = False\n",
    "\n",
    "# Sometimes request doesn't have the lat long, this gives it 10 attempts to try to get it\n",
    "while not success and attempts < 10:\n",
    "    try:\n",
    "        r = requests.get('https://www.airbnb.co.uk/rooms/15307317')\n",
    "        p_lat = re.compile(r'\"lat\":([-0-9.]+),')\n",
    "        p_lng = re.compile(r'\"lng\":([-0-9.]+),')\n",
    "        lat = p_lat.findall(r.text)[0]\n",
    "        lng = p_lng.findall(r.text)[0]\n",
    "        success = True # Found the lat and long, stop looping\n",
    "    except:\n",
    "        print('Couldnt get the coordinate')\n",
    "        attempts += 1\n",
    "\n",
    "print(lat,lng)"
   ]
  },
  {
   "cell_type": "code",
   "execution_count": null,
   "metadata": {},
   "outputs": [],
   "source": []
  }
 ],
 "metadata": {
  "kernelspec": {
   "display_name": "Python 3",
   "language": "python",
   "name": "python3"
  },
  "language_info": {
   "codemirror_mode": {
    "name": "ipython",
    "version": 3
   },
   "file_extension": ".py",
   "mimetype": "text/x-python",
   "name": "python",
   "nbconvert_exporter": "python",
   "pygments_lexer": "ipython3",
   "version": "3.7.0"
  }
 },
 "nbformat": 4,
 "nbformat_minor": 2
}
